{
  "nbformat": 4,
  "nbformat_minor": 0,
  "metadata": {
    "colab": {
      "name": "auto_diagnosis.ipynb",
      "provenance": [],
      "machine_shape": "hm"
    },
    "kernelspec": {
      "name": "python3",
      "display_name": "Python 3"
    },
    "accelerator": "GPU"
  },
  "cells": [
    {
      "cell_type": "markdown",
      "metadata": {
        "id": "NoKwixEEj2o6",
        "colab_type": "text"
      },
      "source": [
        "## Build an Automated Diagnosis Model\n",
        "Make Money with Machine Learning week 4 homework  \n",
        "using Kaggle dataset [Chest X-Ray Images (Pneumonia)](https://www.kaggle.com/paultimothymooney/chest-xray-pneumonia)"
      ]
    },
    {
      "cell_type": "markdown",
      "metadata": {
        "id": "HgDwNSglkHuB",
        "colab_type": "text"
      },
      "source": [
        "### Import required modules"
      ]
    },
    {
      "cell_type": "code",
      "metadata": {
        "id": "_XGvNpkZgX9k",
        "colab_type": "code",
        "colab": {}
      },
      "source": [
        "import numpy as np\n",
        "import pandas as pd\n",
        "import matplotlib.pyplot as plt\n",
        "\n",
        "import tensorflow as tf\n",
        "from tensorflow.keras.applications import inception_v3\n",
        "from sklearn.metrics import classification_report\n",
        "\n",
        "from pathlib import Path"
      ],
      "execution_count": 0,
      "outputs": []
    },
    {
      "cell_type": "markdown",
      "metadata": {
        "id": "Pjy_IGxomSaE",
        "colab_type": "text"
      },
      "source": [
        "### Prepare image paths"
      ]
    },
    {
      "cell_type": "code",
      "metadata": {
        "id": "Y44_I5DPHOeO",
        "colab_type": "code",
        "colab": {}
      },
      "source": [
        "path = Path('/data/chest_xray')\n",
        "train_dir = path/'train'\n",
        "valid_dir = path/'val'\n",
        "test_dir = path/'test'"
      ],
      "execution_count": 0,
      "outputs": []
    },
    {
      "cell_type": "code",
      "metadata": {
        "id": "3EemPEitQZ6r",
        "colab_type": "code",
        "outputId": "0c0d73b2-2c5c-4d7b-d5ef-2a6dc695f346",
        "colab": {
          "base_uri": "https://localhost:8080/",
          "height": 128
        }
      },
      "source": [
        "for folder in ['train', 'val', 'test']:\n",
        "    for img_class in ['NORMAL', 'PNEUMONIA']:\n",
        "        print(f'{folder}/{img_class} images: ', len(list((path/f'{folder}/{img_class}').iterdir())))"
      ],
      "execution_count": 5,
      "outputs": [
        {
          "output_type": "stream",
          "text": [
            "train/NORMAL images:  1342\n",
            "train/PNEUMONIA images:  3876\n",
            "val/NORMAL images:  9\n",
            "val/PNEUMONIA images:  9\n",
            "test/NORMAL images:  234\n",
            "test/PNEUMONIA images:  390\n"
          ],
          "name": "stdout"
        }
      ]
    },
    {
      "cell_type": "markdown",
      "metadata": {
        "id": "2kPf1bKJWpy4",
        "colab_type": "text"
      },
      "source": [
        "### Image Data Generator"
      ]
    },
    {
      "cell_type": "code",
      "metadata": {
        "id": "B2ZA1x2yWVd-",
        "colab_type": "code",
        "outputId": "c0d1f813-f297-4243-99fd-c375627ee71b",
        "colab": {
          "base_uri": "https://localhost:8080/",
          "height": 72
        }
      },
      "source": [
        "img_size = 299\n",
        "\n",
        "# Preprocess input images in the SAME way as the pre-trained model\n",
        "train_data_gen = tf.keras.preprocessing.image.ImageDataGenerator(\n",
        "    shear_range=0.2,\n",
        "    zoom_range=0.2,\n",
        "    horizontal_flip=True,\n",
        "    rescale=1/255)\n",
        "\n",
        "data_gen = tf.keras.preprocessing.image.ImageDataGenerator(\n",
        "    rescale=1/255)\n",
        "\n",
        "train_generator = train_data_gen.flow_from_directory(\n",
        "    train_dir,\n",
        "    target_size=(img_size, img_size),\n",
        "    batch_size=32,\n",
        "    class_mode='categorical')\n",
        "\n",
        "valid_generator = data_gen.flow_from_directory(\n",
        "    valid_dir,\n",
        "    target_size=(img_size, img_size),\n",
        "    shuffle=False,\n",
        "    class_mode='categorical')\n",
        "\n",
        "test_generator = data_gen.flow_from_directory(\n",
        "    test_dir,\n",
        "    target_size=(img_size, img_size),\n",
        "    shuffle=False,\n",
        "    class_mode='categorical')"
      ],
      "execution_count": 20,
      "outputs": [
        {
          "output_type": "stream",
          "text": [
            "Found 5216 images belonging to 2 classes.\n",
            "Found 16 images belonging to 2 classes.\n",
            "Found 624 images belonging to 2 classes.\n"
          ],
          "name": "stdout"
        }
      ]
    },
    {
      "cell_type": "markdown",
      "metadata": {
        "id": "NJFmFhDzWh6_",
        "colab_type": "text"
      },
      "source": [
        "### Build model from pretrained model Inception V3"
      ]
    },
    {
      "cell_type": "code",
      "metadata": {
        "id": "pYY1XbasROQF",
        "colab_type": "code",
        "colab": {}
      },
      "source": [
        "base_model = inception_v3.InceptionV3(\n",
        "    input_shape=(img_size, img_size, 3),\n",
        "    include_top=False,\n",
        "    weights='imagenet',\n",
        "    pooling='avg')\n",
        "\n",
        "model = tf.keras.Sequential([\n",
        "    base_model,\n",
        "    tf.keras.layers.Dense(units=2, activation='softmax')])\n",
        "\n",
        "# Freeze the model\n",
        "model.layers[0].trainable = False\n",
        "\n",
        "model.compile(optimizer=tf.keras.optimizers.RMSprop(lr=0.001), loss='categorical_crossentropy', metrics=['accuracy'])"
      ],
      "execution_count": 0,
      "outputs": []
    },
    {
      "cell_type": "markdown",
      "metadata": {
        "id": "gMhA_XvUaXFN",
        "colab_type": "text"
      },
      "source": [
        "### Fit the model"
      ]
    },
    {
      "cell_type": "code",
      "metadata": {
        "id": "v1TYjkgYaWl1",
        "colab_type": "code",
        "outputId": "ee4ac342-2a2b-4407-be85-a2b05e8347ca",
        "colab": {
          "base_uri": "https://localhost:8080/",
          "height": 591
        }
      },
      "source": [
        "history = model.fit_generator(\n",
        "    train_generator,\n",
        "    epochs=15,\n",
        "    validation_data=valid_generator)\n",
        "tf.keras.models.save_model(model, '/content/model_ep15.hdf')"
      ],
      "execution_count": 22,
      "outputs": [
        {
          "output_type": "stream",
          "text": [
            "Epoch 1/15\n",
            "163/163 [==============================] - 153s 939ms/step - loss: 0.3590 - acc: 0.8436 - val_loss: 0.9298 - val_acc: 0.5000\n",
            "Epoch 2/15\n",
            "163/163 [==============================] - 148s 911ms/step - loss: 0.2470 - acc: 0.8947 - val_loss: 1.1692 - val_acc: 0.5000\n",
            "Epoch 3/15\n",
            "163/163 [==============================] - 155s 949ms/step - loss: 0.2124 - acc: 0.9135 - val_loss: 1.2023 - val_acc: 0.5000\n",
            "Epoch 4/15\n",
            "163/163 [==============================] - 152s 934ms/step - loss: 0.2103 - acc: 0.9153 - val_loss: 1.0955 - val_acc: 0.5000\n",
            "Epoch 5/15\n",
            "163/163 [==============================] - 154s 947ms/step - loss: 0.1981 - acc: 0.9181 - val_loss: 0.8367 - val_acc: 0.5000\n",
            "Epoch 6/15\n",
            "163/163 [==============================] - 154s 946ms/step - loss: 0.1793 - acc: 0.9300 - val_loss: 0.6767 - val_acc: 0.6250\n",
            "Epoch 7/15\n",
            "163/163 [==============================] - 154s 946ms/step - loss: 0.1824 - acc: 0.9254 - val_loss: 0.6259 - val_acc: 0.7500\n",
            "Epoch 8/15\n",
            "163/163 [==============================] - 156s 958ms/step - loss: 0.1739 - acc: 0.9317 - val_loss: 0.7319 - val_acc: 0.5625\n",
            "Epoch 9/15\n",
            "163/163 [==============================] - 151s 929ms/step - loss: 0.1671 - acc: 0.9342 - val_loss: 1.0632 - val_acc: 0.5000\n",
            "Epoch 10/15\n",
            "163/163 [==============================] - 155s 949ms/step - loss: 0.1672 - acc: 0.9329 - val_loss: 0.5659 - val_acc: 0.6875\n",
            "Epoch 11/15\n",
            "163/163 [==============================] - 154s 943ms/step - loss: 0.1732 - acc: 0.9268 - val_loss: 0.5907 - val_acc: 0.6875\n",
            "Epoch 12/15\n",
            "163/163 [==============================] - 152s 933ms/step - loss: 0.1747 - acc: 0.9304 - val_loss: 0.5190 - val_acc: 0.7500\n",
            "Epoch 13/15\n",
            "163/163 [==============================] - 152s 936ms/step - loss: 0.1608 - acc: 0.9385 - val_loss: 0.5383 - val_acc: 0.7500\n",
            "Epoch 14/15\n",
            "163/163 [==============================] - 154s 944ms/step - loss: 0.1603 - acc: 0.9377 - val_loss: 0.7521 - val_acc: 0.5000\n",
            "Epoch 15/15\n",
            "163/163 [==============================] - 152s 935ms/step - loss: 0.1529 - acc: 0.9423 - val_loss: 0.5311 - val_acc: 0.7500\n"
          ],
          "name": "stdout"
        }
      ]
    },
    {
      "cell_type": "markdown",
      "metadata": {
        "id": "_Wq7qhyeHQkg",
        "colab_type": "text"
      },
      "source": [
        "### Evaluate the model with test images"
      ]
    },
    {
      "cell_type": "code",
      "metadata": {
        "id": "eu9WoTCEe22i",
        "colab_type": "code",
        "colab": {
          "base_uri": "https://localhost:8080/",
          "height": 54
        },
        "outputId": "aaba50a8-f1c6-45b8-92ce-631136f6dc76"
      },
      "source": [
        "evaluations = model.evaluate_generator(test_generator)\n",
        "for metric, result in zip(model.metrics_names, evaluations):\n",
        "    print(f'{metric}: {result}')"
      ],
      "execution_count": 23,
      "outputs": [
        {
          "output_type": "stream",
          "text": [
            "loss: 0.5519412081688643\n",
            "acc: 0.745192289352417\n"
          ],
          "name": "stdout"
        }
      ]
    },
    {
      "cell_type": "code",
      "metadata": {
        "id": "ue4Mi3z9DEx5",
        "colab_type": "code",
        "colab": {
          "base_uri": "https://localhost:8080/",
          "height": 183
        },
        "outputId": "cd55b4bd-8d2f-479a-eece-40b000389354"
      },
      "source": [
        "predictions = model.predict_generator(test_generator)\n",
        "print(classification_report(test_generator.classes, np.argmax(predictions, axis=1)))"
      ],
      "execution_count": 25,
      "outputs": [
        {
          "output_type": "stream",
          "text": [
            "              precision    recall  f1-score   support\n",
            "\n",
            "           0       0.69      0.57      0.63       234\n",
            "           1       0.77      0.85      0.81       390\n",
            "\n",
            "    accuracy                           0.75       624\n",
            "   macro avg       0.73      0.71      0.72       624\n",
            "weighted avg       0.74      0.75      0.74       624\n",
            "\n"
          ],
          "name": "stdout"
        }
      ]
    },
    {
      "cell_type": "markdown",
      "metadata": {
        "id": "YB6z2PIpktSe",
        "colab_type": "text"
      },
      "source": [
        "### Conclusion"
      ]
    },
    {
      "cell_type": "markdown",
      "metadata": {
        "id": "hNLgM30zkx_W",
        "colab_type": "text"
      },
      "source": [
        "Using model, we can identify 85% of pneumonia cases in the test data (recall=0.85) and those we identify as pneumonia cases have fair probability of being pneumonia (precision=0.77)."
      ]
    },
    {
      "cell_type": "markdown",
      "metadata": {
        "id": "nACQI2JvLzF3",
        "colab_type": "text"
      },
      "source": [
        "# Diagnosis Examples"
      ]
    },
    {
      "cell_type": "code",
      "metadata": {
        "id": "h0JwK03YgfOx",
        "colab_type": "code",
        "colab": {}
      },
      "source": [
        "def diagnose(img):\n",
        "    img = tf.io.read_file(img)\n",
        "    img = tf.io.decode_jpeg(img, channels=3)\n",
        "    img = tf.image.resize(img, [img_size, img_size])\n",
        "    img = tf.expand_dims(img,0)\n",
        "    img = img / 255\n",
        "    prediction = model.predict(img, steps=1)\n",
        "    print('Probabilities:')\n",
        "    print(f'Normal: {prediction[0][0]}')\n",
        "    print(f'Pneumonia: {prediction[0][1]}')"
      ],
      "execution_count": 0,
      "outputs": []
    },
    {
      "cell_type": "markdown",
      "metadata": {
        "id": "LsofVPctjW0V",
        "colab_type": "text"
      },
      "source": [
        "### From test images"
      ]
    },
    {
      "cell_type": "code",
      "metadata": {
        "id": "9O3IspeYfkCo",
        "colab_type": "code",
        "colab": {}
      },
      "source": [
        "normal_images = [str(img_path) for img_path in (test_dir/'NORMAL').iterdir()]\n",
        "pneumo_images = [str(img_path) for img_path in (test_dir/'PNEUMONIA').iterdir()]"
      ],
      "execution_count": 0,
      "outputs": []
    },
    {
      "cell_type": "markdown",
      "metadata": {
        "id": "54KrDalTjcAi",
        "colab_type": "text"
      },
      "source": [
        "### Diagnosis Example 1"
      ]
    },
    {
      "cell_type": "code",
      "metadata": {
        "id": "YHTSQSUuiDGU",
        "colab_type": "code",
        "colab": {
          "base_uri": "https://localhost:8080/",
          "height": 72
        },
        "outputId": "f1725f82-67bc-4595-e816-ddc651777ac6"
      },
      "source": [
        "diagnose(normal_images[1])"
      ],
      "execution_count": 113,
      "outputs": [
        {
          "output_type": "stream",
          "text": [
            "Probabilities:\n",
            "Normal: 0.7183953523635864\n",
            "Pneumonia: 0.2816045880317688\n"
          ],
          "name": "stdout"
        }
      ]
    },
    {
      "cell_type": "markdown",
      "metadata": {
        "id": "sh46pQn4jhqk",
        "colab_type": "text"
      },
      "source": [
        "### Diagnosis Example 2"
      ]
    },
    {
      "cell_type": "code",
      "metadata": {
        "id": "5rhIJCcIiKYF",
        "colab_type": "code",
        "colab": {
          "base_uri": "https://localhost:8080/",
          "height": 72
        },
        "outputId": "6149a9e4-86fb-4aba-9e11-51abf822aa2b"
      },
      "source": [
        "diagnose(pneumo_images[1])"
      ],
      "execution_count": 115,
      "outputs": [
        {
          "output_type": "stream",
          "text": [
            "Probabilities:\n",
            "Normal: 0.021977011114358902\n",
            "Pneumonia: 0.9780229926109314\n"
          ],
          "name": "stdout"
        }
      ]
    }
  ]
}